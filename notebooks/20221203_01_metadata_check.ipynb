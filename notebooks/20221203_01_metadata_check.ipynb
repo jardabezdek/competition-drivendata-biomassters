{
 "cells": [
  {
   "cell_type": "markdown",
   "id": "c748d5f4",
   "metadata": {},
   "source": [
    "## In this notebook\n",
    "\n",
    "- Check metadata.\n",
    "- Unify metadata and downloaded files."
   ]
  },
  {
   "cell_type": "code",
   "execution_count": 1,
   "id": "ffe702ac",
   "metadata": {},
   "outputs": [],
   "source": [
    "import os\n",
    "\n",
    "# analytics\n",
    "import pandas as pd\n",
    "pd.set_option(\"display.max_rows\", 100)\n",
    "pd.set_option(\"display.max_columns\", 100)\n",
    "import numpy as np\n",
    "\n",
    "# plot\n",
    "import matplotlib\n",
    "import matplotlib.pyplot as plt\n",
    "import seaborn as sns\n",
    "sns.set()"
   ]
  },
  {
   "cell_type": "code",
   "execution_count": 2,
   "id": "846c7417",
   "metadata": {},
   "outputs": [],
   "source": [
    "DATA_FOLDER = \"../data\"\n",
    "\n",
    "FEATURES_METADATA_FILEPATH = \"../data/features_metadata.csv\"\n",
    "FEATURES_METADATA_PROCESSED_FILEPATH = \"../data/features_metadata_processed.csv\"\n",
    "\n",
    "TRAIN_FEATURES_FOLDER = \"../data/train_features/\"\n",
    "TRAIN_LABELS_METADATA_FILEPATH = \"../data/train_agbm_metadata.csv\"\n",
    "TRAIN_LABELS_FOLDER = \"../data/train_agbm/\"\n",
    "\n",
    "TEST_FEATURES_FOLDER = \"../data/test_features/\""
   ]
  },
  {
   "cell_type": "code",
   "execution_count": 3,
   "id": "58d81e9a",
   "metadata": {},
   "outputs": [
    {
     "name": "stdout",
     "output_type": "stream",
     "text": [
      "total 124176\r\n",
      "-rw-r--r--     1 nobody nogroup 83745777 Oct 25 17:59 features_metadata.csv\r\n",
      "-rw-r--r--     1 nobody nogroup 40456802 Dec  4 20:07 features_metadata_processed.csv\r\n",
      "drwxr-xr-x     2 nobody nogroup       64 Dec  3 10:05 test_agbm\r\n",
      "drwxr-xr-x 63350 nobody nogroup  2027200 Dec  2 21:22 test_features\r\n",
      "drwxr-xr-x  8691 nobody nogroup   278112 Dec  2 20:10 train_agbm\r\n",
      "-rw-r--r--     1 nobody nogroup  2448108 Oct 24 20:44 train_agbm_metadata.csv\r\n",
      "drwxr-xr-x 65535 nobody nogroup  6050560 Dec  3 00:56 train_features\r\n"
     ]
    }
   ],
   "source": [
    "! ls -l $DATA_FOLDER"
   ]
  },
  {
   "cell_type": "markdown",
   "id": "f3bf1fcd",
   "metadata": {},
   "source": [
    "## Load metadata"
   ]
  },
  {
   "cell_type": "code",
   "execution_count": 4,
   "id": "89706192",
   "metadata": {},
   "outputs": [
    {
     "name": "stdout",
     "output_type": "stream",
     "text": [
      "CPU times: user 716 ms, sys: 77.3 ms, total: 794 ms\n",
      "Wall time: 793 ms\n"
     ]
    },
    {
     "data": {
      "text/html": [
       "<div>\n",
       "<style scoped>\n",
       "    .dataframe tbody tr th:only-of-type {\n",
       "        vertical-align: middle;\n",
       "    }\n",
       "\n",
       "    .dataframe tbody tr th {\n",
       "        vertical-align: top;\n",
       "    }\n",
       "\n",
       "    .dataframe thead th {\n",
       "        text-align: right;\n",
       "    }\n",
       "</style>\n",
       "<table border=\"1\" class=\"dataframe\">\n",
       "  <thead>\n",
       "    <tr style=\"text-align: right;\">\n",
       "      <th></th>\n",
       "      <th>filename</th>\n",
       "      <th>chip_id</th>\n",
       "      <th>satellite</th>\n",
       "      <th>split</th>\n",
       "      <th>month</th>\n",
       "      <th>label_filename</th>\n",
       "    </tr>\n",
       "  </thead>\n",
       "  <tbody>\n",
       "    <tr>\n",
       "      <th>252421</th>\n",
       "      <td>fff812c0_S2_07.tif</td>\n",
       "      <td>fff812c0</td>\n",
       "      <td>S2</td>\n",
       "      <td>test</td>\n",
       "      <td>April</td>\n",
       "      <td>fff812c0_agbm.tif</td>\n",
       "    </tr>\n",
       "    <tr>\n",
       "      <th>252422</th>\n",
       "      <td>fff812c0_S2_08.tif</td>\n",
       "      <td>fff812c0</td>\n",
       "      <td>S2</td>\n",
       "      <td>test</td>\n",
       "      <td>May</td>\n",
       "      <td>fff812c0_agbm.tif</td>\n",
       "    </tr>\n",
       "    <tr>\n",
       "      <th>252423</th>\n",
       "      <td>fff812c0_S2_09.tif</td>\n",
       "      <td>fff812c0</td>\n",
       "      <td>S2</td>\n",
       "      <td>test</td>\n",
       "      <td>June</td>\n",
       "      <td>fff812c0_agbm.tif</td>\n",
       "    </tr>\n",
       "    <tr>\n",
       "      <th>252424</th>\n",
       "      <td>fff812c0_S2_10.tif</td>\n",
       "      <td>fff812c0</td>\n",
       "      <td>S2</td>\n",
       "      <td>test</td>\n",
       "      <td>July</td>\n",
       "      <td>fff812c0_agbm.tif</td>\n",
       "    </tr>\n",
       "    <tr>\n",
       "      <th>252425</th>\n",
       "      <td>fff812c0_S2_11.tif</td>\n",
       "      <td>fff812c0</td>\n",
       "      <td>S2</td>\n",
       "      <td>test</td>\n",
       "      <td>August</td>\n",
       "      <td>fff812c0_agbm.tif</td>\n",
       "    </tr>\n",
       "  </tbody>\n",
       "</table>\n",
       "</div>"
      ],
      "text/plain": [
       "                  filename   chip_id satellite split   month  \\\n",
       "252421  fff812c0_S2_07.tif  fff812c0        S2  test   April   \n",
       "252422  fff812c0_S2_08.tif  fff812c0        S2  test     May   \n",
       "252423  fff812c0_S2_09.tif  fff812c0        S2  test    June   \n",
       "252424  fff812c0_S2_10.tif  fff812c0        S2  test    July   \n",
       "252425  fff812c0_S2_11.tif  fff812c0        S2  test  August   \n",
       "\n",
       "           label_filename  \n",
       "252421  fff812c0_agbm.tif  \n",
       "252422  fff812c0_agbm.tif  \n",
       "252423  fff812c0_agbm.tif  \n",
       "252424  fff812c0_agbm.tif  \n",
       "252425  fff812c0_agbm.tif  "
      ]
     },
     "execution_count": 4,
     "metadata": {},
     "output_type": "execute_result"
    }
   ],
   "source": [
    "%%time\n",
    "\n",
    "df = (\n",
    "    pd\n",
    "    .read_csv(FEATURES_METADATA_FILEPATH)\n",
    "    .drop([\"size\", \"cksum\", \"s3path_us\", \"s3path_eu\", \"s3path_as\"], axis=1)\n",
    "    .rename({\"corresponding_agbm\": \"label_filename\"}, axis=1)\n",
    ")\n",
    "\n",
    "df.tail()"
   ]
  },
  {
   "cell_type": "markdown",
   "id": "44382522",
   "metadata": {},
   "source": [
    "## Check metadata\n",
    "\n",
    "- Everything seems to be correct."
   ]
  },
  {
   "cell_type": "code",
   "execution_count": 5,
   "id": "3ad77626",
   "metadata": {},
   "outputs": [
    {
     "data": {
      "text/plain": [
       "train    189078\n",
       "test      63348\n",
       "Name: split, dtype: int64"
      ]
     },
     "execution_count": 5,
     "metadata": {},
     "output_type": "execute_result"
    }
   ],
   "source": [
    "# rows count per split\n",
    "\n",
    "df.split.value_counts()"
   ]
  },
  {
   "cell_type": "code",
   "execution_count": 6,
   "id": "1fda33b1",
   "metadata": {},
   "outputs": [
    {
     "data": {
      "text/plain": [
       "split\n",
       "test     2773\n",
       "train    8689\n",
       "Name: label_filename, dtype: int64"
      ]
     },
     "execution_count": 6,
     "metadata": {},
     "output_type": "execute_result"
    }
   ],
   "source": [
    "# unique lables per split\n",
    "\n",
    "(\n",
    "    df\n",
    "    .groupby([\"split\"])\n",
    "    .label_filename\n",
    "    .nunique()\n",
    ")"
   ]
  },
  {
   "cell_type": "code",
   "execution_count": 7,
   "id": "05cd06aa",
   "metadata": {},
   "outputs": [
    {
     "name": "stdout",
     "output_type": "stream",
     "text": [
      "Number of downloaded data files:\n",
      "- train features: 189,078\n",
      "- test features: 63,348\n",
      "- train lables: 8,689\n"
     ]
    }
   ],
   "source": [
    "# number of actually downloaded data is the same as expected\n",
    "\n",
    "downloaded_train_features = os.listdir(TRAIN_FEATURES_FOLDER)\n",
    "downloaded_test_features = os.listdir(TEST_FEATURES_FOLDER)\n",
    "downloaded_train_labels = os.listdir(TRAIN_LABELS_FOLDER)\n",
    "\n",
    "print(\"Number of downloaded data files:\")\n",
    "print(f\"- train features: {len(downloaded_train_features):,.0f}\")\n",
    "print(f\"- test features: {len(downloaded_test_features):,.0f}\")\n",
    "print(f\"- train lables: {len(downloaded_train_labels):,.0f}\")"
   ]
  },
  {
   "cell_type": "markdown",
   "id": "150a2b7d",
   "metadata": {},
   "source": [
    "## Process metadata"
   ]
  },
  {
   "cell_type": "code",
   "execution_count": 8,
   "id": "51de3171",
   "metadata": {},
   "outputs": [
    {
     "data": {
      "text/html": [
       "<div>\n",
       "<style scoped>\n",
       "    .dataframe tbody tr th:only-of-type {\n",
       "        vertical-align: middle;\n",
       "    }\n",
       "\n",
       "    .dataframe tbody tr th {\n",
       "        vertical-align: top;\n",
       "    }\n",
       "\n",
       "    .dataframe thead th {\n",
       "        text-align: right;\n",
       "    }\n",
       "</style>\n",
       "<table border=\"1\" class=\"dataframe\">\n",
       "  <thead>\n",
       "    <tr style=\"text-align: right;\">\n",
       "      <th></th>\n",
       "      <th>filename</th>\n",
       "      <th>filepath</th>\n",
       "      <th>label_filename</th>\n",
       "      <th>label_filepath</th>\n",
       "      <th>chip_id</th>\n",
       "      <th>satellite</th>\n",
       "      <th>split</th>\n",
       "      <th>month</th>\n",
       "    </tr>\n",
       "  </thead>\n",
       "  <tbody>\n",
       "    <tr>\n",
       "      <th>252421</th>\n",
       "      <td>fff812c0_S2_07.tif</td>\n",
       "      <td>/usr/src/app/data/test_features/fff812c0_S2_07...</td>\n",
       "      <td>fff812c0_agbm.tif</td>\n",
       "      <td>/usr/src/app/data/test_agbm/fff812c0_agbm.tif</td>\n",
       "      <td>fff812c0</td>\n",
       "      <td>S2</td>\n",
       "      <td>test</td>\n",
       "      <td>April</td>\n",
       "    </tr>\n",
       "    <tr>\n",
       "      <th>252422</th>\n",
       "      <td>fff812c0_S2_08.tif</td>\n",
       "      <td>/usr/src/app/data/test_features/fff812c0_S2_08...</td>\n",
       "      <td>fff812c0_agbm.tif</td>\n",
       "      <td>/usr/src/app/data/test_agbm/fff812c0_agbm.tif</td>\n",
       "      <td>fff812c0</td>\n",
       "      <td>S2</td>\n",
       "      <td>test</td>\n",
       "      <td>May</td>\n",
       "    </tr>\n",
       "    <tr>\n",
       "      <th>252423</th>\n",
       "      <td>fff812c0_S2_09.tif</td>\n",
       "      <td>/usr/src/app/data/test_features/fff812c0_S2_09...</td>\n",
       "      <td>fff812c0_agbm.tif</td>\n",
       "      <td>/usr/src/app/data/test_agbm/fff812c0_agbm.tif</td>\n",
       "      <td>fff812c0</td>\n",
       "      <td>S2</td>\n",
       "      <td>test</td>\n",
       "      <td>June</td>\n",
       "    </tr>\n",
       "    <tr>\n",
       "      <th>252424</th>\n",
       "      <td>fff812c0_S2_10.tif</td>\n",
       "      <td>/usr/src/app/data/test_features/fff812c0_S2_10...</td>\n",
       "      <td>fff812c0_agbm.tif</td>\n",
       "      <td>/usr/src/app/data/test_agbm/fff812c0_agbm.tif</td>\n",
       "      <td>fff812c0</td>\n",
       "      <td>S2</td>\n",
       "      <td>test</td>\n",
       "      <td>July</td>\n",
       "    </tr>\n",
       "    <tr>\n",
       "      <th>252425</th>\n",
       "      <td>fff812c0_S2_11.tif</td>\n",
       "      <td>/usr/src/app/data/test_features/fff812c0_S2_11...</td>\n",
       "      <td>fff812c0_agbm.tif</td>\n",
       "      <td>/usr/src/app/data/test_agbm/fff812c0_agbm.tif</td>\n",
       "      <td>fff812c0</td>\n",
       "      <td>S2</td>\n",
       "      <td>test</td>\n",
       "      <td>August</td>\n",
       "    </tr>\n",
       "  </tbody>\n",
       "</table>\n",
       "</div>"
      ],
      "text/plain": [
       "                  filename                                           filepath  \\\n",
       "252421  fff812c0_S2_07.tif  /usr/src/app/data/test_features/fff812c0_S2_07...   \n",
       "252422  fff812c0_S2_08.tif  /usr/src/app/data/test_features/fff812c0_S2_08...   \n",
       "252423  fff812c0_S2_09.tif  /usr/src/app/data/test_features/fff812c0_S2_09...   \n",
       "252424  fff812c0_S2_10.tif  /usr/src/app/data/test_features/fff812c0_S2_10...   \n",
       "252425  fff812c0_S2_11.tif  /usr/src/app/data/test_features/fff812c0_S2_11...   \n",
       "\n",
       "           label_filename                                 label_filepath  \\\n",
       "252421  fff812c0_agbm.tif  /usr/src/app/data/test_agbm/fff812c0_agbm.tif   \n",
       "252422  fff812c0_agbm.tif  /usr/src/app/data/test_agbm/fff812c0_agbm.tif   \n",
       "252423  fff812c0_agbm.tif  /usr/src/app/data/test_agbm/fff812c0_agbm.tif   \n",
       "252424  fff812c0_agbm.tif  /usr/src/app/data/test_agbm/fff812c0_agbm.tif   \n",
       "252425  fff812c0_agbm.tif  /usr/src/app/data/test_agbm/fff812c0_agbm.tif   \n",
       "\n",
       "         chip_id satellite split   month  \n",
       "252421  fff812c0        S2  test   April  \n",
       "252422  fff812c0        S2  test     May  \n",
       "252423  fff812c0        S2  test    June  \n",
       "252424  fff812c0        S2  test    July  \n",
       "252425  fff812c0        S2  test  August  "
      ]
     },
     "execution_count": 8,
     "metadata": {},
     "output_type": "execute_result"
    }
   ],
   "source": [
    "# create filepath columns\n",
    "\n",
    "df[\"filepath\"] = np.where(\n",
    "    df.split == \"train\",\n",
    "    \"/usr/src/app/data/train_features/\" + df.filename,\n",
    "    \"/usr/src/app/data/test_features/\" + df.filename,\n",
    ")\n",
    "\n",
    "df[\"label_filepath\"] = np.where(\n",
    "    df.split == \"train\",\n",
    "    \"/usr/src/app/data/train_agbm/\" + df.label_filename,\n",
    "    \"/usr/src/app/data/test_agbm/\" + df.label_filename,\n",
    ")\n",
    "\n",
    "df = df.loc[:, [\n",
    "    \"filename\", \"filepath\", \"label_filename\", \"label_filepath\", \"chip_id\", \"satellite\", \"split\", \"month\",\n",
    "]]\n",
    "\n",
    "df.tail()"
   ]
  },
  {
   "cell_type": "markdown",
   "id": "3b3c4881",
   "metadata": {},
   "source": [
    "## Save metadata"
   ]
  },
  {
   "cell_type": "code",
   "execution_count": 9,
   "id": "2f62ddc1",
   "metadata": {},
   "outputs": [],
   "source": [
    "df.to_csv(FEATURES_METADATA_PROCESSED_FILEPATH, index=False)"
   ]
  }
 ],
 "metadata": {
  "kernelspec": {
   "display_name": "Python 3 (ipykernel)",
   "language": "python",
   "name": "python3"
  },
  "language_info": {
   "codemirror_mode": {
    "name": "ipython",
    "version": 3
   },
   "file_extension": ".py",
   "mimetype": "text/x-python",
   "name": "python",
   "nbconvert_exporter": "python",
   "pygments_lexer": "ipython3",
   "version": "3.8.12"
  }
 },
 "nbformat": 4,
 "nbformat_minor": 5
}
