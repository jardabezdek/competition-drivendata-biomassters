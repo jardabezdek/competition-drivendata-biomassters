{
 "cells": [
  {
   "cell_type": "markdown",
   "id": "2305e1f9",
   "metadata": {},
   "source": [
    "## Links\n",
    "\n",
    "- [baseline U-Net model](https://github.com/fnands/BioMassters_baseline/blob/main/unet_baseline.ipynb)"
   ]
  }
 ],
 "metadata": {
  "kernelspec": {
   "display_name": "Python 3 (ipykernel)",
   "language": "python",
   "name": "python3"
  },
  "language_info": {
   "codemirror_mode": {
    "name": "ipython",
    "version": 3
   },
   "file_extension": ".py",
   "mimetype": "text/x-python",
   "name": "python",
   "nbconvert_exporter": "python",
   "pygments_lexer": "ipython3",
   "version": "3.8.12"
  }
 },
 "nbformat": 4,
 "nbformat_minor": 5
}
